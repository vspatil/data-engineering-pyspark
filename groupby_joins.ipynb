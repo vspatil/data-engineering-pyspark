{
 "cells": [
  {
   "cell_type": "code",
   "execution_count": 2,
   "id": "8939efc4",
   "metadata": {},
   "outputs": [],
   "source": [
    "import pyspark"
   ]
  },
  {
   "cell_type": "code",
   "execution_count": 3,
   "id": "a6096bd2",
   "metadata": {},
   "outputs": [
    {
     "name": "stderr",
     "output_type": "stream",
     "text": [
      "Setting default log level to \"WARN\".\n",
      "To adjust logging level use sc.setLogLevel(newLevel). For SparkR, use setLogLevel(newLevel).\n"
     ]
    },
    {
     "name": "stdout",
     "output_type": "stream",
     "text": [
      "23/03/06 06:15:19 WARN NativeCodeLoader: Unable to load native-hadoop library for your platform... using builtin-java classes where applicable\n"
     ]
    }
   ],
   "source": [
    "from pyspark.sql import SparkSession\n",
    "spark = SparkSession.builder\\\n",
    "        .master('local[*]')\\\n",
    "        .appName('test1')\\\n",
    "        .getOrCreate()"
   ]
  },
  {
   "cell_type": "code",
   "execution_count": 4,
   "id": "9f73f95c",
   "metadata": {},
   "outputs": [
    {
     "name": "stderr",
     "output_type": "stream",
     "text": [
      "                                                                                \r"
     ]
    }
   ],
   "source": [
    "df_green = spark.read.parquet('../notebooks/data/raw/green/2021/*')"
   ]
  },
  {
   "cell_type": "code",
   "execution_count": null,
   "id": "74a0544a",
   "metadata": {},
   "outputs": [],
   "source": [
    "df_green.columns"
   ]
  },
  {
   "cell_type": "code",
   "execution_count": 5,
   "id": "57cc4bcb",
   "metadata": {},
   "outputs": [],
   "source": [
    "df_green.createOrReplaceTempView('green')"
   ]
  },
  {
   "cell_type": "code",
   "execution_count": 6,
   "id": "11b4dea4",
   "metadata": {},
   "outputs": [],
   "source": [
    "df_result_green = spark.sql(\"\"\"\n",
    "SELECT \n",
    "    -- Reveneue grouping \n",
    "    date_trunc('hour', lpep_pickup_datetime) AS hour, \n",
    "    PULocationID AS revenue_zone,\n",
    "\n",
    "    -- Revenue calculation \n",
    "    SUM(total_amount) AS revenue_monthly_total_amount,\n",
    "    count(1) as count\n",
    "FROM\n",
    "    green\n",
    "where lpep_pickup_datetime >= '2021-01-01 00:00:00'\n",
    "GROUP BY\n",
    "    1, 2\n",
    "order by\n",
    "    1,2\n",
    "\"\"\")"
   ]
  },
  {
   "cell_type": "code",
   "execution_count": 7,
   "id": "d4c9687f",
   "metadata": {},
   "outputs": [
    {
     "name": "stderr",
     "output_type": "stream",
     "text": [
      "[Stage 3:>                                                          (0 + 4) / 4]\r"
     ]
    },
    {
     "name": "stdout",
     "output_type": "stream",
     "text": [
      "+-------------------+------------+----------------------------+-----+\n",
      "|               hour|revenue_zone|revenue_monthly_total_amount|count|\n",
      "+-------------------+------------+----------------------------+-----+\n",
      "|2021-01-01 00:00:00|           7|                       61.47|    2|\n",
      "|2021-01-01 00:00:00|          17|                      102.34|    3|\n",
      "|2021-01-01 00:00:00|          35|                        50.3|    2|\n",
      "|2021-01-01 00:00:00|          39|                        36.0|    1|\n",
      "|2021-01-01 00:00:00|          41|                         8.3|    1|\n",
      "|2021-01-01 00:00:00|          42|                       28.02|    3|\n",
      "|2021-01-01 00:00:00|          43|                         6.8|    1|\n",
      "|2021-01-01 00:00:00|          47|                       63.19|    2|\n",
      "|2021-01-01 00:00:00|          55|                       57.25|    1|\n",
      "|2021-01-01 00:00:00|          61|          43.760000000000005|    2|\n",
      "|2021-01-01 00:00:00|          63|                       41.99|    1|\n",
      "|2021-01-01 00:00:00|          74|                       86.57|    7|\n",
      "|2021-01-01 00:00:00|          75|                       34.36|    3|\n",
      "|2021-01-01 00:00:00|          76|                       36.01|    1|\n",
      "|2021-01-01 00:00:00|          82|                        11.8|    1|\n",
      "|2021-01-01 00:00:00|         116|                       55.59|    4|\n",
      "|2021-01-01 00:00:00|         130|                       46.74|    1|\n",
      "|2021-01-01 00:00:00|         152|                       84.92|    1|\n",
      "|2021-01-01 00:00:00|         159|                        25.5|    1|\n",
      "|2021-01-01 00:00:00|         165|                       22.87|    1|\n",
      "+-------------------+------------+----------------------------+-----+\n",
      "only showing top 20 rows\n",
      "\n"
     ]
    },
    {
     "name": "stderr",
     "output_type": "stream",
     "text": [
      "\r",
      "                                                                                \r"
     ]
    }
   ],
   "source": [
    "df_result_green.show()"
   ]
  },
  {
   "cell_type": "code",
   "execution_count": 8,
   "id": "35ed6e6b",
   "metadata": {},
   "outputs": [
    {
     "name": "stderr",
     "output_type": "stream",
     "text": [
      "                                                                                \r"
     ]
    }
   ],
   "source": [
    "df_result_green\\\n",
    ".repartition(20)\\\n",
    ".write.parquet('../notebooks/data/report/revenue/green',mode = 'overwrite')"
   ]
  },
  {
   "cell_type": "code",
   "execution_count": 9,
   "id": "42c483ce",
   "metadata": {},
   "outputs": [],
   "source": [
    "df_yellow = spark.read.parquet('../notebooks/data/raw/yellow/2021/*')"
   ]
  },
  {
   "cell_type": "code",
   "execution_count": 10,
   "id": "95025b1b",
   "metadata": {},
   "outputs": [],
   "source": [
    "df_yellow = spark.read.parquet('../notebooks/data/raw/yellow/2021/*')"
   ]
  },
  {
   "cell_type": "code",
   "execution_count": 11,
   "id": "62e83599",
   "metadata": {},
   "outputs": [],
   "source": [
    "df_yellow.createOrReplaceTempView('yellow')"
   ]
  },
  {
   "cell_type": "code",
   "execution_count": 12,
   "id": "596eb7dc",
   "metadata": {},
   "outputs": [],
   "source": [
    "df_result_yellow = spark.sql(\"\"\"\n",
    "SELECT \n",
    "    -- Reveneue grouping \n",
    "    date_trunc('hour', tpep_pickup_datetime) AS hour, \n",
    "    PULocationID AS revenue_zone,\n",
    "\n",
    "    -- Revenue calculation \n",
    "    SUM(total_amount) AS revenue_monthly_total_amount,\n",
    "    count(1) as count\n",
    "FROM\n",
    "    yellow\n",
    "where tpep_pickup_datetime >= '2021-01-01 00:00:00'\n",
    "GROUP BY\n",
    "    1, 2\n",
    "order by\n",
    "    1,2\n",
    "\"\"\")"
   ]
  },
  {
   "cell_type": "code",
   "execution_count": 52,
   "id": "0ecfc2c3",
   "metadata": {},
   "outputs": [
    {
     "name": "stderr",
     "output_type": "stream",
     "text": [
      "[Stage 82:==============================================>           (4 + 1) / 5]\r"
     ]
    },
    {
     "name": "stdout",
     "output_type": "stream",
     "text": [
      "+-------------------+------------+----------------------------+-----+\n",
      "|               hour|revenue_zone|revenue_monthly_total_amount|count|\n",
      "+-------------------+------------+----------------------------+-----+\n",
      "|2021-01-01 00:00:00|           4|                        64.4|    3|\n",
      "|2021-01-01 00:00:00|           7|                        71.3|    2|\n",
      "|2021-01-01 00:00:00|          10|                        52.4|    1|\n",
      "|2021-01-01 00:00:00|          13|                        73.9|    3|\n",
      "|2021-01-01 00:00:00|          17|                        32.3|    2|\n",
      "|2021-01-01 00:00:00|          24|                      120.54|    7|\n",
      "|2021-01-01 00:00:00|          25|                       19.04|    1|\n",
      "|2021-01-01 00:00:00|          28|                       44.16|    1|\n",
      "|2021-01-01 00:00:00|          32|                       30.32|    1|\n",
      "|2021-01-01 00:00:00|          41|           94.78999999999999|    5|\n",
      "|2021-01-01 00:00:00|          42|          62.099999999999994|    2|\n",
      "|2021-01-01 00:00:00|          43|           352.2300000000001|   22|\n",
      "|2021-01-01 00:00:00|          45|                       93.78|    4|\n",
      "|2021-01-01 00:00:00|          47|          122.72999999999999|    2|\n",
      "|2021-01-01 00:00:00|          48|           1363.739999999999|   81|\n",
      "|2021-01-01 00:00:00|          49|                      247.57|    6|\n",
      "|2021-01-01 00:00:00|          50|          117.45000000000002|    7|\n",
      "|2021-01-01 00:00:00|          51|                       17.18|    1|\n",
      "|2021-01-01 00:00:00|          61|                      106.06|    4|\n",
      "|2021-01-01 00:00:00|          65|                        19.3|    1|\n",
      "+-------------------+------------+----------------------------+-----+\n",
      "only showing top 20 rows\n",
      "\n"
     ]
    },
    {
     "name": "stderr",
     "output_type": "stream",
     "text": [
      "\r",
      "                                                                                \r"
     ]
    }
   ],
   "source": [
    "df_result_yellow.show()"
   ]
  },
  {
   "cell_type": "code",
   "execution_count": 13,
   "id": "141761ba",
   "metadata": {},
   "outputs": [],
   "source": [
    "df_result_green_tmp =df_result_green\\\n",
    "    .withColumnRenamed('revenue_monthly_total_amount','green_amount')\\\n",
    "    .withColumnRenamed('count','green_count')\n",
    "\n",
    "df_result_yellow_tmp =df_result_yellow\\\n",
    "    .withColumnRenamed('revenue_monthly_total_amount','yellow_amount')\\\n",
    "    .withColumnRenamed('count','yellow_count')"
   ]
  },
  {
   "cell_type": "code",
   "execution_count": 14,
   "id": "41020a29",
   "metadata": {},
   "outputs": [
    {
     "name": "stderr",
     "output_type": "stream",
     "text": [
      "                                                                                \r"
     ]
    }
   ],
   "source": [
    "df_result_yellow\\\n",
    ".repartition(20)\\\n",
    ".write.parquet('../notebooks/data/report/revenue/yellow',mode = 'overwrite')"
   ]
  },
  {
   "cell_type": "code",
   "execution_count": 15,
   "id": "320a19d5",
   "metadata": {},
   "outputs": [],
   "source": [
    "df_join = df_result_green_tmp.join(df_result_yellow_tmp, on=['hour','revenue_zone'], how='outer')"
   ]
  },
  {
   "cell_type": "code",
   "execution_count": 17,
   "id": "9ae83bbe",
   "metadata": {},
   "outputs": [
    {
     "name": "stderr",
     "output_type": "stream",
     "text": [
      "                                                                                \r"
     ]
    }
   ],
   "source": [
    "df_join.write.parquet('../notebooks/data/report/total',mode='overwrite')"
   ]
  },
  {
   "cell_type": "code",
   "execution_count": 18,
   "id": "e2e2e71e",
   "metadata": {},
   "outputs": [],
   "source": [
    "df_join = spark.read.parquet('../notebooks/data/report/total')"
   ]
  },
  {
   "cell_type": "code",
   "execution_count": 19,
   "id": "3d15c21c",
   "metadata": {},
   "outputs": [
    {
     "name": "stdout",
     "output_type": "stream",
     "text": [
      "+-------------------+------------+------------+-----------+------------------+------------+\n",
      "|               hour|revenue_zone|green_amount|green_count|     yellow_amount|yellow_count|\n",
      "+-------------------+------------+------------+-----------+------------------+------------+\n",
      "|2021-01-01 00:00:00|           7|       61.47|          2|              71.3|           2|\n",
      "|2021-01-01 00:00:00|          17|      102.34|          3|              32.3|           2|\n",
      "|2021-01-01 00:00:00|          32|        null|       null|             30.32|           1|\n",
      "|2021-01-01 00:00:00|          39|        36.0|          1|              null|        null|\n",
      "|2021-01-01 00:00:00|          45|        null|       null|             93.78|           4|\n",
      "|2021-01-01 00:00:00|          49|        null|       null|            247.57|           6|\n",
      "|2021-01-01 00:00:00|          51|        null|       null|             17.18|           1|\n",
      "|2021-01-01 00:00:00|          63|       41.99|          1|              null|        null|\n",
      "|2021-01-01 00:00:00|          72|        null|       null|              15.0|           1|\n",
      "|2021-01-01 00:00:00|          75|       34.36|          3|400.14000000000004|          22|\n",
      "|2021-01-01 00:00:00|          82|        11.8|          1|               8.8|           1|\n",
      "|2021-01-01 00:00:00|          97|        null|       null| 87.07000000000001|           3|\n",
      "|2021-01-01 00:00:00|         114|        null|       null|            152.86|           8|\n",
      "|2021-01-01 00:00:00|         116|       55.59|          4|             36.55|           2|\n",
      "|2021-01-01 00:00:00|         121|        null|       null|             41.62|           1|\n",
      "|2021-01-01 00:00:00|         124|        null|       null|             36.86|           1|\n",
      "|2021-01-01 00:00:00|         125|        null|       null|             66.17|           4|\n",
      "|2021-01-01 00:00:00|         144|        null|       null|104.25999999999999|           4|\n",
      "|2021-01-01 00:00:00|         148|        null|       null|            152.07|           9|\n",
      "|2021-01-01 00:00:00|         151|        null|       null| 261.2700000000001|          22|\n",
      "+-------------------+------------+------------+-----------+------------------+------------+\n",
      "only showing top 20 rows\n",
      "\n"
     ]
    }
   ],
   "source": [
    "df_join.show()"
   ]
  },
  {
   "cell_type": "code",
   "execution_count": 20,
   "id": "2c3c1db9",
   "metadata": {},
   "outputs": [],
   "source": [
    "df_zones = spark.read.parquet('../notebooks/zones')"
   ]
  },
  {
   "cell_type": "code",
   "execution_count": 21,
   "id": "5d975824",
   "metadata": {},
   "outputs": [
    {
     "name": "stdout",
     "output_type": "stream",
     "text": [
      "+----------+-------------+--------------------+------------+\n",
      "|LocationID|      Borough|                Zone|service_zone|\n",
      "+----------+-------------+--------------------+------------+\n",
      "|         1|          EWR|      Newark Airport|         EWR|\n",
      "|         2|       Queens|         Jamaica Bay|   Boro Zone|\n",
      "|         3|        Bronx|Allerton/Pelham G...|   Boro Zone|\n",
      "|         4|    Manhattan|       Alphabet City| Yellow Zone|\n",
      "|         5|Staten Island|       Arden Heights|   Boro Zone|\n",
      "|         6|Staten Island|Arrochar/Fort Wad...|   Boro Zone|\n",
      "|         7|       Queens|             Astoria|   Boro Zone|\n",
      "|         8|       Queens|        Astoria Park|   Boro Zone|\n",
      "|         9|       Queens|          Auburndale|   Boro Zone|\n",
      "|        10|       Queens|        Baisley Park|   Boro Zone|\n",
      "|        11|     Brooklyn|          Bath Beach|   Boro Zone|\n",
      "|        12|    Manhattan|        Battery Park| Yellow Zone|\n",
      "|        13|    Manhattan|   Battery Park City| Yellow Zone|\n",
      "|        14|     Brooklyn|           Bay Ridge|   Boro Zone|\n",
      "|        15|       Queens|Bay Terrace/Fort ...|   Boro Zone|\n",
      "|        16|       Queens|             Bayside|   Boro Zone|\n",
      "|        17|     Brooklyn|             Bedford|   Boro Zone|\n",
      "|        18|        Bronx|        Bedford Park|   Boro Zone|\n",
      "|        19|       Queens|           Bellerose|   Boro Zone|\n",
      "|        20|        Bronx|             Belmont|   Boro Zone|\n",
      "+----------+-------------+--------------------+------------+\n",
      "only showing top 20 rows\n",
      "\n"
     ]
    }
   ],
   "source": [
    "df_zones.show()"
   ]
  },
  {
   "cell_type": "code",
   "execution_count": 22,
   "id": "996b0aff",
   "metadata": {},
   "outputs": [],
   "source": [
    "df_result = df_join.join(df_zones, df_zones.LocationID == df_join.revenue_zone )"
   ]
  },
  {
   "cell_type": "code",
   "execution_count": 23,
   "id": "d99e0d13",
   "metadata": {},
   "outputs": [
    {
     "name": "stderr",
     "output_type": "stream",
     "text": [
      "                                                                                \r"
     ]
    }
   ],
   "source": [
    "df_result.drop('LocationID').write.parquet('../notebooks/tmp/revenue_zones')"
   ]
  },
  {
   "cell_type": "code",
   "execution_count": null,
   "id": "9095d63e",
   "metadata": {},
   "outputs": [],
   "source": []
  }
 ],
 "metadata": {
  "kernelspec": {
   "display_name": "Python 3 (ipykernel)",
   "language": "python",
   "name": "python3"
  },
  "language_info": {
   "codemirror_mode": {
    "name": "ipython",
    "version": 3
   },
   "file_extension": ".py",
   "mimetype": "text/x-python",
   "name": "python",
   "nbconvert_exporter": "python",
   "pygments_lexer": "ipython3",
   "version": "3.9.13"
  }
 },
 "nbformat": 4,
 "nbformat_minor": 5
}
