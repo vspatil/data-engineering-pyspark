{
 "cells": [
  {
   "cell_type": "code",
   "execution_count": 2,
   "id": "b6e4f0b6",
   "metadata": {},
   "outputs": [],
   "source": [
    "import pyspark\n",
    "from pyspark.sql import SparkSession\n",
    "from pyspark.conf import SparkConf\n",
    "from pyspark.context import SparkContext"
   ]
  },
  {
   "cell_type": "code",
   "execution_count": 3,
   "id": "5983782b",
   "metadata": {},
   "outputs": [],
   "source": [
    "credentials_location = '/home/Vani/notebooks/key.json'\n",
    "\n",
    "conf = SparkConf() \\\n",
    "    .setMaster('local[*]') \\\n",
    "    .setAppName('test') \\\n",
    "    .set(\"spark.jars\", \"../notebooks/lib/gcs-connector-hadoop3-2.2.5.jar\") \\\n",
    "    .set(\"spark.hadoop.google.cloud.auth.service.account.enable\", \"true\") \\\n",
    "    .set(\"spark.hadoop.google.cloud.auth.service.account.json.keyfile\", credentials_location)"
   ]
  },
  {
   "cell_type": "code",
   "execution_count": 4,
   "id": "bf8548c5",
   "metadata": {},
   "outputs": [
    {
     "name": "stdout",
     "output_type": "stream",
     "text": [
      "23/03/07 22:08:09 WARN NativeCodeLoader: Unable to load native-hadoop library for your platform... using builtin-java classes where applicable\n"
     ]
    },
    {
     "name": "stderr",
     "output_type": "stream",
     "text": [
      "Setting default log level to \"WARN\".\n",
      "To adjust logging level use sc.setLogLevel(newLevel). For SparkR, use setLogLevel(newLevel).\n"
     ]
    }
   ],
   "source": [
    "sc = SparkContext(conf=conf)\n",
    "\n",
    "hadoop_conf = sc._jsc.hadoopConfiguration()\n",
    "\n",
    "hadoop_conf.set(\"fs.AbstractFileSystem.gs.impl\",  \"com.google.cloud.hadoop.fs.gcs.GoogleHadoopFS\")\n",
    "hadoop_conf.set(\"fs.gs.impl\", \"com.google.cloud.hadoop.fs.gcs.GoogleHadoopFileSystem\")\n",
    "hadoop_conf.set(\"fs.gs.auth.service.account.json.keyfile\", credentials_location)\n",
    "hadoop_conf.set(\"fs.gs.auth.service.account.enable\", \"true\")"
   ]
  },
  {
   "cell_type": "code",
   "execution_count": 5,
   "id": "0aa8136c",
   "metadata": {},
   "outputs": [],
   "source": [
    "spark = SparkSession.builder \\\n",
    "    .config(conf=sc.getConf()) \\\n",
    "    .getOrCreate()"
   ]
  },
  {
   "cell_type": "code",
   "execution_count": 6,
   "id": "799f1258",
   "metadata": {},
   "outputs": [
    {
     "name": "stderr",
     "output_type": "stream",
     "text": [
      "                                                                                \r"
     ]
    }
   ],
   "source": [
    "df_green = spark.read.parquet(\"gs://de_taxi_data/raw/green/*/*\")"
   ]
  },
  {
   "cell_type": "code",
   "execution_count": 7,
   "id": "b9d740b1",
   "metadata": {},
   "outputs": [
    {
     "name": "stderr",
     "output_type": "stream",
     "text": [
      "\r",
      "[Stage 1:>                                                          (0 + 1) / 1]\r"
     ]
    },
    {
     "name": "stdout",
     "output_type": "stream",
     "text": [
      "+--------+--------------------+---------------------+------------------+----------+------------+------------+---------------+-------------+-----------+-----+-------+----------+------------+---------+---------------------+------------+------------+---------+--------------------+\n",
      "|VendorID|lpep_pickup_datetime|lpep_dropoff_datetime|store_and_fwd_flag|RatecodeID|PULocationID|DOLocationID|passenger_count|trip_distance|fare_amount|extra|mta_tax|tip_amount|tolls_amount|ehail_fee|improvement_surcharge|total_amount|payment_type|trip_type|congestion_surcharge|\n",
      "+--------+--------------------+---------------------+------------------+----------+------------+------------+---------------+-------------+-----------+-----+-------+----------+------------+---------+---------------------+------------+------------+---------+--------------------+\n",
      "|       2| 2021-09-30 18:39:03|  2021-09-30 18:39:06|                 N|       5.0|          37|          37|            1.0|         0.02|       10.0|  0.0|    0.0|       0.0|         0.0|     null|                  0.3|        10.3|         1.0|      2.0|                 0.0|\n",
      "|       2| 2021-10-01 00:47:50|  2021-10-01 01:00:04|                 N|       5.0|          92|          82|            2.0|         3.44|       20.0|  0.0|    0.0|       0.0|         0.0|     null|                  0.3|        20.3|         2.0|      2.0|                 0.0|\n",
      "|       2| 2021-10-01 00:23:10|  2021-10-01 00:34:26|                 N|       5.0|          41|         167|            2.0|         2.44|       13.0|  0.0|    0.0|       0.0|         0.0|     null|                  0.3|        13.3|         2.0|      2.0|                 0.0|\n",
      "|       2| 2021-10-01 00:37:35|  2021-10-01 00:43:37|                 N|       1.0|         134|         135|            1.0|         1.67|        7.0|  0.5|    0.5|       0.0|         0.0|     null|                  0.3|         8.3|         1.0|      1.0|                 0.0|\n",
      "|       2| 2021-10-01 00:43:28|  2021-10-01 00:48:26|                 N|       1.0|         119|         247|            1.0|         0.99|        5.5|  0.5|    0.5|       0.0|         0.0|     null|                  0.3|         6.8|         2.0|      1.0|                 0.0|\n",
      "|       2| 2021-10-01 00:57:38|  2021-10-01 01:02:31|                 N|       1.0|         169|         235|            1.0|         0.76|        5.5|  0.5|    0.5|       0.0|         0.0|     null|                  0.3|         6.8|         2.0|      1.0|                 0.0|\n",
      "|       2| 2021-10-01 00:44:54|  2021-10-01 01:07:28|                 N|       1.0|          75|         217|            1.0|         9.18|       28.0|  0.5|    0.5|       0.0|         0.0|     null|                  0.3|       32.05|         2.0|      1.0|                2.75|\n",
      "|       2| 2021-10-01 00:05:40|  2021-10-01 00:33:03|                 N|       1.0|          66|          90|            2.0|         7.04|       25.0|  0.5|    0.5|      5.81|         0.0|     null|                  0.3|       34.86|         1.0|      1.0|                2.75|\n",
      "|       2| 2021-10-01 00:24:38|  2021-10-01 00:36:22|                 N|       1.0|          82|          56|            1.0|         1.42|        9.0|  0.5|    0.5|       0.0|         0.0|     null|                  0.3|        10.3|         2.0|      1.0|                 0.0|\n",
      "|       2| 2021-09-30 23:40:42|  2021-09-30 23:52:40|                 N|       1.0|          66|         231|            1.0|         2.27|       10.5|  0.5|    0.5|      2.91|         0.0|     null|                  0.3|       17.46|         1.0|      1.0|                2.75|\n",
      "|       2| 2021-10-01 00:09:01|  2021-10-01 00:27:22|                 N|       1.0|          66|         141|            1.0|         7.87|       23.5|  0.5|    0.5|      2.76|         0.0|     null|                  0.3|       30.31|         1.0|      1.0|                2.75|\n",
      "|       2| 2021-10-01 00:08:50|  2021-10-01 00:20:12|                 N|       1.0|         130|         205|            1.0|         2.86|       11.0|  0.5|    0.5|      3.08|         0.0|     null|                  0.3|       15.38|         1.0|      1.0|                 0.0|\n",
      "|       1| 2021-10-01 00:01:21|  2021-10-01 00:18:29|                 N|       1.0|         181|         188|            1.0|          3.2|       14.0|  0.5|    0.5|      3.05|         0.0|     null|                  0.3|       18.35|         1.0|      1.0|                 0.0|\n",
      "|       2| 2021-10-01 00:04:40|  2021-10-01 00:11:02|                 N|       1.0|         129|         129|            1.0|         1.01|        6.5|  0.5|    0.5|      2.34|         0.0|     null|                  0.3|       10.14|         1.0|      1.0|                 0.0|\n",
      "|       1| 2021-10-01 00:10:37|  2021-10-01 00:13:29|                 N|       1.0|          10|         130|            1.0|          2.1|        7.5|  0.5|    0.5|       0.0|         0.0|     null|                  0.3|         8.8|         2.0|      1.0|                 0.0|\n",
      "|       2| 2021-09-30 21:03:51|  2021-09-30 21:25:22|                 N|       1.0|         134|          37|            1.0|         7.16|       23.5|  0.5|    0.5|      4.96|         0.0|     null|                  0.3|       29.76|         1.0|      1.0|                 0.0|\n",
      "|       2| 2021-10-01 00:09:23|  2021-10-01 00:18:42|                 N|       1.0|         129|          82|            1.0|         1.23|        8.0|  0.5|    0.5|      1.86|         0.0|     null|                  0.3|       11.16|         1.0|      1.0|                 0.0|\n",
      "|       2| 2021-10-01 00:28:33|  2021-10-01 00:46:43|                 N|       1.0|          74|         250|            3.0|          5.8|       19.5|  0.5|    0.5|       0.2|         0.0|     null|                  0.3|        21.0|         1.0|      1.0|                 0.0|\n",
      "|       2| 2021-10-01 00:46:34|  2021-10-01 00:56:30|                 N|       1.0|          21|         210|            1.0|         3.71|       12.5|  0.5|    0.5|       0.0|         0.0|     null|                  0.3|        13.8|         1.0|      1.0|                 0.0|\n",
      "|       2| 2021-10-01 00:54:15|  2021-10-01 01:15:21|                 N|       1.0|          41|          48|            1.0|         4.56|       17.5|  0.5|    0.5|       1.0|         0.0|     null|                  0.3|       22.55|         1.0|      1.0|                2.75|\n",
      "+--------+--------------------+---------------------+------------------+----------+------------+------------+---------------+-------------+-----------+-----+-------+----------+------------+---------+---------------------+------------+------------+---------+--------------------+\n",
      "only showing top 20 rows\n",
      "\n"
     ]
    },
    {
     "name": "stderr",
     "output_type": "stream",
     "text": [
      "\r",
      "                                                                                \r"
     ]
    }
   ],
   "source": [
    "df_green.show()\n"
   ]
  },
  {
   "cell_type": "code",
   "execution_count": 8,
   "id": "da2166b8",
   "metadata": {},
   "outputs": [
    {
     "name": "stderr",
     "output_type": "stream",
     "text": [
      "                                                                                \r"
     ]
    },
    {
     "data": {
      "text/plain": [
       "1068755"
      ]
     },
     "execution_count": 8,
     "metadata": {},
     "output_type": "execute_result"
    }
   ],
   "source": [
    "df_green.count()"
   ]
  },
  {
   "cell_type": "code",
   "execution_count": null,
   "id": "a0b5f280",
   "metadata": {},
   "outputs": [],
   "source": []
  }
 ],
 "metadata": {
  "kernelspec": {
   "display_name": "Python 3 (ipykernel)",
   "language": "python",
   "name": "python3"
  },
  "language_info": {
   "codemirror_mode": {
    "name": "ipython",
    "version": 3
   },
   "file_extension": ".py",
   "mimetype": "text/x-python",
   "name": "python",
   "nbconvert_exporter": "python",
   "pygments_lexer": "ipython3",
   "version": "3.9.13"
  }
 },
 "nbformat": 4,
 "nbformat_minor": 5
}
