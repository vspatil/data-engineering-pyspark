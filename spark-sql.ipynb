{
 "cells": [
  {
   "cell_type": "code",
   "execution_count": 3,
   "id": "b5cc254d",
   "metadata": {},
   "outputs": [],
   "source": [
    "import pyspark"
   ]
  },
  {
   "cell_type": "code",
   "execution_count": 4,
   "id": "fbca1004",
   "metadata": {},
   "outputs": [],
   "source": [
    "from pyspark.sql import SparkSession"
   ]
  },
  {
   "cell_type": "code",
   "execution_count": 5,
   "id": "3c4328b2",
   "metadata": {},
   "outputs": [
    {
     "name": "stderr",
     "output_type": "stream",
     "text": [
      "Setting default log level to \"WARN\".\n",
      "To adjust logging level use sc.setLogLevel(newLevel). For SparkR, use setLogLevel(newLevel).\n"
     ]
    },
    {
     "name": "stdout",
     "output_type": "stream",
     "text": [
      "23/03/06 01:09:26 WARN NativeCodeLoader: Unable to load native-hadoop library for your platform... using builtin-java classes where applicable\n",
      "23/03/06 01:09:27 WARN Utils: Service 'SparkUI' could not bind on port 4040. Attempting port 4041.\n"
     ]
    }
   ],
   "source": [
    "spark = SparkSession.builder\\\n",
    "        .master('local[*]')\\\n",
    "        .appName('hw')\\\n",
    "        .getOrCreate()"
   ]
  },
  {
   "cell_type": "code",
   "execution_count": 6,
   "id": "cb69461f",
   "metadata": {},
   "outputs": [
    {
     "name": "stdout",
     "output_type": "stream",
     "text": [
      "--2023-03-01 07:09:38--  https://d37ci6vzurychx.cloudfront.net/trip-data/fhvhv_tripdata_2021-06.parquet\n",
      "Resolving d37ci6vzurychx.cloudfront.net (d37ci6vzurychx.cloudfront.net)... 52.84.160.73, 52.84.160.84, 52.84.160.116, ...\n",
      "Connecting to d37ci6vzurychx.cloudfront.net (d37ci6vzurychx.cloudfront.net)|52.84.160.73|:443... connected.\n",
      "HTTP request sent, awaiting response... 200 OK\n",
      "Length: 394114750 (376M) [application/x-www-form-urlencoded]\n",
      "Saving to: ‘fhvhv_tripdata_2021-06.parquet’\n",
      "\n",
      "fhvhv_tripdata_2021 100%[===================>] 375.86M  56.9MB/s    in 7.0s    \n",
      "\n",
      "2023-03-01 07:09:46 (53.7 MB/s) - ‘fhvhv_tripdata_2021-06.parquet’ saved [394114750/394114750]\n",
      "\n"
     ]
    }
   ],
   "source": [
    "!wget https://d37ci6vzurychx.cloudfront.net/trip-data/fhvhv_tripdata_2021-06.parquet"
   ]
  },
  {
   "cell_type": "code",
   "execution_count": 4,
   "id": "a452a9df",
   "metadata": {},
   "outputs": [
    {
     "name": "stdout",
     "output_type": "stream",
     "text": [
      "data\t\t\t\thomework_week5.ipynb\r\n",
      "download_data.sh\t\tpyspark_latest.ipynb\r\n",
      "fhvhv\t\t\t\tspark-warehouse\r\n",
      "fhvhv_tripdata_2021-01.csv\tspark_sql.ipynb\r\n",
      "fhvhv_tripdata_2021-01.parquet\ttaxi+_zone_lookup.csv\r\n",
      "fhvhv_tripdata_2021-06.parquet\ttest_pyspark.ipynb\r\n",
      "head.csv\t\t\tzones\r\n"
     ]
    }
   ],
   "source": [
    "!ls\n"
   ]
  },
  {
   "cell_type": "code",
   "execution_count": 13,
   "id": "59156a1e",
   "metadata": {},
   "outputs": [
    {
     "name": "stdout",
     "output_type": "stream",
     "text": [
      "1278730 fhvhv_tripdata_2021-06.parquet\r\n"
     ]
    }
   ],
   "source": [
    "!wc -l 'fhvhv_tripdata_2021-06.parquet'"
   ]
  },
  {
   "cell_type": "code",
   "execution_count": 16,
   "id": "a6ef5535",
   "metadata": {},
   "outputs": [],
   "source": [
    "df = spark.read.format('parquet')\\\n",
    "    .load('fhvhv_tripdata_2021-06.parquet')"
   ]
  },
  {
   "cell_type": "code",
   "execution_count": 17,
   "id": "4d170d16",
   "metadata": {},
   "outputs": [
    {
     "name": "stderr",
     "output_type": "stream",
     "text": [
      "                                                                                \r"
     ]
    }
   ],
   "source": [
    "df.repartition(12).write.format('parquet').mode('overwrite').save('fhvhv/2021/06')"
   ]
  },
  {
   "cell_type": "code",
   "execution_count": 18,
   "id": "0548a740",
   "metadata": {},
   "outputs": [
    {
     "name": "stdout",
     "output_type": "stream",
     "text": [
      "root\n",
      " |-- hvfhs_license_num: string (nullable = true)\n",
      " |-- dispatching_base_num: string (nullable = true)\n",
      " |-- originating_base_num: string (nullable = true)\n",
      " |-- request_datetime: timestamp (nullable = true)\n",
      " |-- on_scene_datetime: timestamp (nullable = true)\n",
      " |-- pickup_datetime: timestamp (nullable = true)\n",
      " |-- dropoff_datetime: timestamp (nullable = true)\n",
      " |-- PULocationID: long (nullable = true)\n",
      " |-- DOLocationID: long (nullable = true)\n",
      " |-- trip_miles: double (nullable = true)\n",
      " |-- trip_time: long (nullable = true)\n",
      " |-- base_passenger_fare: double (nullable = true)\n",
      " |-- tolls: double (nullable = true)\n",
      " |-- bcf: double (nullable = true)\n",
      " |-- sales_tax: double (nullable = true)\n",
      " |-- congestion_surcharge: double (nullable = true)\n",
      " |-- airport_fee: double (nullable = true)\n",
      " |-- tips: double (nullable = true)\n",
      " |-- driver_pay: double (nullable = true)\n",
      " |-- shared_request_flag: string (nullable = true)\n",
      " |-- shared_match_flag: string (nullable = true)\n",
      " |-- access_a_ride_flag: string (nullable = true)\n",
      " |-- wav_request_flag: string (nullable = true)\n",
      " |-- wav_match_flag: string (nullable = true)\n",
      "\n"
     ]
    }
   ],
   "source": [
    "df.printSchema()"
   ]
  },
  {
   "cell_type": "code",
   "execution_count": 7,
   "id": "f0f0db1e",
   "metadata": {},
   "outputs": [],
   "source": [
    "df = spark.read.parquet('fhvhv/2021/06')"
   ]
  },
  {
   "cell_type": "code",
   "execution_count": 8,
   "id": "79fc6b59",
   "metadata": {},
   "outputs": [
    {
     "name": "stderr",
     "output_type": "stream",
     "text": [
      "\r",
      "[Stage 2:>                                                          (0 + 1) / 1]\r"
     ]
    },
    {
     "name": "stdout",
     "output_type": "stream",
     "text": [
      "+-------------------+-------------------+------------+------------+\n",
      "|    pickup_datetime|   dropoff_datetime|PULocationID|DOLocationID|\n",
      "+-------------------+-------------------+------------+------------+\n",
      "|2021-06-27 08:58:38|2021-06-27 09:19:15|         255|         186|\n",
      "|2021-06-06 15:19:30|2021-06-06 15:51:26|          95|         263|\n",
      "|2021-06-13 16:23:14|2021-06-13 16:31:11|          76|          76|\n",
      "|2021-06-24 07:01:30|2021-06-24 07:58:43|          76|          33|\n",
      "|2021-06-10 00:03:03|2021-06-10 00:21:36|         148|          49|\n",
      "|2021-06-10 04:49:00|2021-06-10 05:10:34|         116|          90|\n",
      "|2021-06-03 02:24:12|2021-06-03 02:37:11|         248|         126|\n",
      "|2021-06-08 10:48:56|2021-06-08 10:56:39|         185|         248|\n",
      "|2021-06-30 00:01:04|2021-06-30 00:13:09|         164|          87|\n",
      "|2021-06-26 13:19:38|2021-06-26 13:34:36|         164|          79|\n",
      "|2021-06-06 14:04:55|2021-06-06 14:18:21|         117|         201|\n",
      "|2021-06-01 02:01:41|2021-06-01 02:19:07|          77|          76|\n",
      "|2021-06-19 16:55:50|2021-06-19 17:18:30|         244|         126|\n",
      "|2021-06-27 17:46:45|2021-06-27 17:53:11|         259|         240|\n",
      "|2021-06-13 13:48:39|2021-06-13 14:14:06|          45|         188|\n",
      "|2021-06-22 21:53:26|2021-06-22 22:28:51|          48|         265|\n",
      "|2021-06-22 19:16:07|2021-06-22 19:19:15|         203|         203|\n",
      "|2021-06-18 19:50:43|2021-06-18 20:01:54|         167|          47|\n",
      "|2021-06-23 19:14:49|2021-06-23 19:23:46|          36|          37|\n",
      "|2021-06-01 08:33:10|2021-06-01 09:03:22|         188|          37|\n",
      "+-------------------+-------------------+------------+------------+\n",
      "only showing top 20 rows\n",
      "\n"
     ]
    },
    {
     "name": "stderr",
     "output_type": "stream",
     "text": [
      "\r",
      "                                                                                \r"
     ]
    }
   ],
   "source": [
    "df\\\n",
    ".select ('pickup_datetime','dropoff_datetime','PULocationID','DOLocationID')\\\n",
    ".show()"
   ]
  },
  {
   "cell_type": "code",
   "execution_count": 9,
   "id": "05a4af45",
   "metadata": {},
   "outputs": [],
   "source": [
    "from pyspark.sql import functions as F\n",
    "\n",
    "df_trip_data =df\\\n",
    ".withColumn('pickup_date',F.to_date(df.pickup_datetime))\\\n",
    ".withColumn('dropoff_date',F.to_date(df.dropoff_datetime))\\\n",
    ".select ('pickup_datetime','dropoff_datetime','PULocationID','DOLocationID','pickup_date','dropoff_date','trip_miles','trip_time')\n"
   ]
  },
  {
   "cell_type": "code",
   "execution_count": 10,
   "id": "6db082dd",
   "metadata": {},
   "outputs": [
    {
     "name": "stdout",
     "output_type": "stream",
     "text": [
      "+-------------------+-------------------+------------+------------+---------+\n",
      "|    pickup_datetime|   dropoff_datetime|PULocationID|DOLocationID|trip_time|\n",
      "+-------------------+-------------------+------------+------------+---------+\n",
      "|2021-06-27 08:58:38|2021-06-27 09:19:15|         255|         186|     1237|\n",
      "|2021-06-06 15:19:30|2021-06-06 15:51:26|          95|         263|     1916|\n",
      "|2021-06-13 16:23:14|2021-06-13 16:31:11|          76|          76|      477|\n",
      "|2021-06-24 07:01:30|2021-06-24 07:58:43|          76|          33|     3433|\n",
      "|2021-06-10 00:03:03|2021-06-10 00:21:36|         148|          49|     1113|\n",
      "|2021-06-10 04:49:00|2021-06-10 05:10:34|         116|          90|     1294|\n",
      "|2021-06-03 02:24:12|2021-06-03 02:37:11|         248|         126|      779|\n",
      "|2021-06-08 10:48:56|2021-06-08 10:56:39|         185|         248|      464|\n",
      "|2021-06-30 00:01:04|2021-06-30 00:13:09|         164|          87|      725|\n",
      "|2021-06-26 13:19:38|2021-06-26 13:34:36|         164|          79|      898|\n",
      "|2021-06-06 14:04:55|2021-06-06 14:18:21|         117|         201|      806|\n",
      "|2021-06-01 02:01:41|2021-06-01 02:19:07|          77|          76|     1046|\n",
      "|2021-06-19 16:55:50|2021-06-19 17:18:30|         244|         126|     1359|\n",
      "|2021-06-27 17:46:45|2021-06-27 17:53:11|         259|         240|      386|\n",
      "|2021-06-13 13:48:39|2021-06-13 14:14:06|          45|         188|     1527|\n",
      "|2021-06-22 21:53:26|2021-06-22 22:28:51|          48|         265|     2125|\n",
      "|2021-06-22 19:16:07|2021-06-22 19:19:15|         203|         203|      188|\n",
      "|2021-06-18 19:50:43|2021-06-18 20:01:54|         167|          47|      671|\n",
      "|2021-06-23 19:14:49|2021-06-23 19:23:46|          36|          37|      537|\n",
      "|2021-06-01 08:33:10|2021-06-01 09:03:22|         188|          37|     1812|\n",
      "+-------------------+-------------------+------------+------------+---------+\n",
      "only showing top 20 rows\n",
      "\n"
     ]
    }
   ],
   "source": [
    "df\\\n",
    ".select ('pickup_datetime','dropoff_datetime','PULocationID','DOLocationID','trip_time')\\\n",
    ".show()"
   ]
  },
  {
   "cell_type": "code",
   "execution_count": 55,
   "id": "875f2ebb",
   "metadata": {},
   "outputs": [
    {
     "name": "stdout",
     "output_type": "stream",
     "text": [
      "root\n",
      " |-- pickup_datetime: timestamp (nullable = true)\n",
      " |-- dropoff_datetime: timestamp (nullable = true)\n",
      " |-- PULocationID: long (nullable = true)\n",
      " |-- DOLocationID: long (nullable = true)\n",
      " |-- pickup_date: date (nullable = true)\n",
      " |-- dropoff_date: date (nullable = true)\n",
      " |-- trip_miles: double (nullable = true)\n",
      " |-- trip_time: long (nullable = true)\n",
      "\n"
     ]
    }
   ],
   "source": [
    "df_trip_data.printSchema()"
   ]
  },
  {
   "cell_type": "code",
   "execution_count": 12,
   "id": "1b1c4fb3",
   "metadata": {},
   "outputs": [
    {
     "name": "stdout",
     "output_type": "stream",
     "text": [
      "23/03/06 01:10:26 WARN package: Truncated the string representation of a plan since it was too large. This behavior can be adjusted by setting 'spark.sql.debug.maxToStringFields'.\n"
     ]
    }
   ],
   "source": [
    "df_trip_data.createOrReplaceTempView('trip_data')"
   ]
  },
  {
   "cell_type": "code",
   "execution_count": 13,
   "id": "7ceac319",
   "metadata": {},
   "outputs": [
    {
     "name": "stderr",
     "output_type": "stream",
     "text": [
      "[Stage 4:=======================================>                   (4 + 2) / 6]\r"
     ]
    },
    {
     "name": "stdout",
     "output_type": "stream",
     "text": [
      "+--------+\n",
      "|count(1)|\n",
      "+--------+\n",
      "|  452470|\n",
      "+--------+\n",
      "\n"
     ]
    },
    {
     "name": "stderr",
     "output_type": "stream",
     "text": [
      "\r",
      "                                                                                \r"
     ]
    }
   ],
   "source": [
    "spark.sql (\"\"\"\n",
    "select  \n",
    "        count(1) \n",
    "from \n",
    "        trip_data \n",
    "        where pickup_date ='2021-06-15'\n",
    "\"\"\").show()"
   ]
  },
  {
   "cell_type": "code",
   "execution_count": 14,
   "id": "a1ab7bd7",
   "metadata": {},
   "outputs": [
    {
     "name": "stderr",
     "output_type": "stream",
     "text": [
      "\r",
      "[Stage 7:>                                                          (0 + 4) / 6]\r"
     ]
    },
    {
     "name": "stdout",
     "output_type": "stream",
     "text": [
      "+--------------+\n",
      "|max(trip_time)|\n",
      "+--------------+\n",
      "|        240764|\n",
      "+--------------+\n",
      "\n"
     ]
    },
    {
     "name": "stderr",
     "output_type": "stream",
     "text": [
      "\r",
      "[Stage 7:=======================================>                   (4 + 2) / 6]\r",
      "\r",
      "                                                                                \r"
     ]
    }
   ],
   "source": [
    "spark.sql (\"\"\"\n",
    "select  \n",
    "        max(trip_time)\n",
    "from \n",
    "        trip_data \n",
    "\n",
    "      \n",
    "\"\"\").show()"
   ]
  },
  {
   "cell_type": "code",
   "execution_count": 15,
   "id": "8ce69f72",
   "metadata": {},
   "outputs": [],
   "source": [
    "df_zones = spark.read.parquet('../notebooks/zones')"
   ]
  },
  {
   "cell_type": "code",
   "execution_count": 18,
   "id": "73d94774",
   "metadata": {},
   "outputs": [],
   "source": [
    "df_zones.createOrReplaceTempView('zones')"
   ]
  },
  {
   "cell_type": "code",
   "execution_count": 20,
   "id": "d0b4ff6b",
   "metadata": {},
   "outputs": [
    {
     "name": "stderr",
     "output_type": "stream",
     "text": [
      "[Stage 13:======================================>                   (4 + 2) / 6]\r"
     ]
    },
    {
     "name": "stdout",
     "output_type": "stream",
     "text": [
      "+--------------------+--------+\n",
      "|                zone|count(1)|\n",
      "+--------------------+--------+\n",
      "| Crown Heights North|  231279|\n",
      "|        East Village|  221244|\n",
      "|         JFK Airport|  188867|\n",
      "|      Bushwick South|  187929|\n",
      "|       East New York|  186780|\n",
      "|TriBeCa/Civic Center|  164344|\n",
      "|   LaGuardia Airport|  161596|\n",
      "|            Union Sq|  158937|\n",
      "|        West Village|  154698|\n",
      "|             Astoria|  152493|\n",
      "|     Lower East Side|  151020|\n",
      "|        East Chelsea|  147673|\n",
      "|Central Harlem North|  146402|\n",
      "|Williamsburg (Nor...|  143683|\n",
      "|          Park Slope|  143594|\n",
      "|  Stuyvesant Heights|  141427|\n",
      "|        Clinton East|  139611|\n",
      "|West Chelsea/Huds...|  139431|\n",
      "|             Bedford|  138428|\n",
      "|         Murray Hill|  137879|\n",
      "+--------------------+--------+\n",
      "only showing top 20 rows\n",
      "\n"
     ]
    },
    {
     "name": "stderr",
     "output_type": "stream",
     "text": [
      "\r",
      "                                                                                \r"
     ]
    }
   ],
   "source": [
    "spark.sql (\n",
    "\"\"\"\n",
    "select  \n",
    "        zone , count(1)\n",
    "from \n",
    "        trip_data a\n",
    "inner join\n",
    "        zones b\n",
    "on\n",
    "\n",
    "a.PULocationID = b.LocationID\n",
    "\n",
    "group by 1\n",
    "order by 2 desc\n",
    "\n",
    "\"\"\"\n",
    ").show()"
   ]
  },
  {
   "cell_type": "code",
   "execution_count": null,
   "id": "f5d4fecc",
   "metadata": {},
   "outputs": [],
   "source": []
  }
 ],
 "metadata": {
  "kernelspec": {
   "display_name": "Python 3 (ipykernel)",
   "language": "python",
   "name": "python3"
  },
  "language_info": {
   "codemirror_mode": {
    "name": "ipython",
    "version": 3
   },
   "file_extension": ".py",
   "mimetype": "text/x-python",
   "name": "python",
   "nbconvert_exporter": "python",
   "pygments_lexer": "ipython3",
   "version": "3.9.13"
  }
 },
 "nbformat": 4,
 "nbformat_minor": 5
}
